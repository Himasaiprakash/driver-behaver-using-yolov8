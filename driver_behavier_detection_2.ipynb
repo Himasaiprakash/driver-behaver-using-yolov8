{
 "cells": [
  {
   "cell_type": "code",
   "execution_count": 1,
   "id": "f81db6ea",
   "metadata": {},
   "outputs": [
    {
     "name": "stdout",
     "output_type": "stream",
     "text": [
      "Number of images in 'other_activities' are 2119.\n",
      "Successfully processed 'other_activities' class having a total of 2119 images.\n",
      "Number of images in 'safe_driving' are 2203.\n",
      "Successfully processed 'safe_driving' class having a total of 2203 images.\n",
      "Number of images in 'talking_phone' are 2169.\n",
      "Successfully processed 'talking_phone' class having a total of 2169 images.\n",
      "Number of images in 'texting_phone' are 2203.\n",
      "Successfully processed 'texting_phone' class having a total of 2203 images.\n",
      "Number of images in 'turning' are 2057.\n",
      "Successfully processed 'turning' class having a total of 2057 images.\n"
     ]
    }
   ],
   "source": [
    "import os\n",
    "import random\n",
    "import shutil\n",
    "import uuid\n",
    "\n",
    "TRAIN_TO_VALIDATION_RATIO = 0.8  # 80% as training data and 20% as validation data\n",
    "DATASET_DIR = 'Revitsone-5classes/'  # Update the path to your dataset directory\n",
    "\n",
    "# Create a 'driverbehavior' directory to save the 'train' and 'val' data folders\n",
    "os.makedirs(os.path.join(os.getcwd(), 'driverbehavior'), exist_ok=True)\n",
    "\n",
    "# Create directories for train and validation sets\n",
    "train_dir = os.path.join(os.getcwd(), 'driverbehavior', 'train')\n",
    "valid_dir = os.path.join(os.getcwd(), 'driverbehavior', 'val')\n",
    "os.makedirs(train_dir, exist_ok=True)\n",
    "os.makedirs(valid_dir, exist_ok=True)\n",
    "\n",
    "# Get a list of all class folders in the dataset directory\n",
    "class_folders = [folder for folder in os.listdir(DATASET_DIR) if os.path.isdir(os.path.join(DATASET_DIR, folder))]\n",
    "\n",
    "# Loop through each class folder\n",
    "for class_folder in class_folders:\n",
    "    class_path = os.path.join(DATASET_DIR, class_folder)\n",
    "\n",
    "    # Get a list of images in the current class folder\n",
    "    images = [image for image in os.listdir(class_path) if image.lower().endswith('.jpg') or image.lower().endswith('.png')]\n",
    "    num_images = len(images)\n",
    "    print(f\"Number of images in '{class_folder}' are {num_images}.\")\n",
    "\n",
    "    # Calculate the number of images to be used for training and validation based on the given ratio\n",
    "    num_train_images = int(TRAIN_TO_VALIDATION_RATIO * num_images)\n",
    "\n",
    "    # Randomly shuffle the images to ensure random selection for train and validation sets\n",
    "    random.shuffle(images)\n",
    "\n",
    "    # Split images into train and validation sets\n",
    "    train_images = images[:num_train_images]\n",
    "    val_images = images[num_train_images:]\n",
    "\n",
    "    # Move images to their respective directories with UUID-based names\n",
    "    for image in train_images:\n",
    "        src_path = os.path.join(class_path, image)\n",
    "        unique_name = str(uuid.uuid4()) + os.path.splitext(image)[1]  # Generate a UUID and append the original file extension\n",
    "        dst_path = os.path.join(train_dir, class_folder, unique_name)\n",
    "        os.makedirs(os.path.join(train_dir, class_folder), exist_ok=True)  # Create class folder in train_dir if it doesn't exist\n",
    "        shutil.copy(src_path, dst_path)  # Copy the image to the train directory with the new UUID-based name\n",
    "\n",
    "    for image in val_images:\n",
    "        src_path = os.path.join(class_path, image)\n",
    "        unique_name = str(uuid.uuid4()) + os.path.splitext(image)[1]  # Generate a UUID and append the original file extension\n",
    "        dst_path = os.path.join(valid_dir, class_folder, unique_name)\n",
    "        os.makedirs(os.path.join(valid_dir, class_folder), exist_ok=True)  # Create class folder in valid_dir if it doesn't exist\n",
    "        shutil.copy(src_path, dst_path)  # Copy the image to the validation directory with the new UUID-based name\n",
    "\n",
    "    # Verify the total number of images after the split to ensure no data loss\n",
    "    images_in_train = [image for image in os.listdir(os.path.join(train_dir, class_folder)) if\n",
    "                       image.lower().endswith('.jpg') or image.lower().endswith('.png')]\n",
    "    images_in_val = [image for image in os.listdir(os.path.join(valid_dir, class_folder)) if\n",
    "                     image.lower().endswith('.jpg') or image.lower().endswith('.png')]\n",
    "    final_total_images = len(images_in_train) + len(images_in_val)\n",
    "    assert final_total_images == num_images, \"After Splitting the number of images have decreased.\"\n",
    "\n",
    "    print(f\"Successfully processed '{class_folder}' class having a total of {final_total_images} images.\")\n"
   ]
  },
  {
   "cell_type": "code",
   "execution_count": 2,
   "id": "d1ff7a01",
   "metadata": {},
   "outputs": [
    {
     "name": "stdout",
     "output_type": "stream",
     "text": [
      "Ultralytics YOLOv8.1.24 🚀 Python-3.11.4 torch-2.2.1+cpu CPU (11th Gen Intel Core(TM) i7-11390H 3.40GHz)\n",
      "\u001b[34m\u001b[1mengine\\trainer: \u001b[0mtask=classify, mode=train, model=yolov8n-cls.pt, data=C:\\Users\\SAIPRAKASH\\Desktop\\research_r\\driver_behavir\\driverbehavior, epochs=5, time=None, patience=100, batch=16, imgsz=128, save=True, save_period=-1, cache=False, device=None, workers=8, project=None, name=train2, exist_ok=False, pretrained=True, optimizer=auto, verbose=True, seed=0, deterministic=True, single_cls=False, rect=False, cos_lr=False, close_mosaic=10, resume=False, amp=True, fraction=1.0, profile=False, freeze=None, multi_scale=False, overlap_mask=True, mask_ratio=4, dropout=0.0, val=True, split=val, save_json=False, save_hybrid=False, conf=None, iou=0.7, max_det=300, half=False, dnn=False, plots=True, source=None, vid_stride=1, stream_buffer=False, visualize=False, augment=False, agnostic_nms=False, classes=None, retina_masks=False, embed=None, show=False, save_frames=False, save_txt=False, save_conf=False, save_crop=False, show_labels=True, show_conf=True, show_boxes=True, line_width=None, format=torchscript, keras=False, optimize=False, int8=False, dynamic=False, simplify=False, opset=None, workspace=4, nms=False, lr0=0.01, lrf=0.01, momentum=0.937, weight_decay=0.0005, warmup_epochs=3.0, warmup_momentum=0.8, warmup_bias_lr=0.1, box=7.5, cls=0.5, dfl=1.5, pose=12.0, kobj=1.0, label_smoothing=0.0, nbs=64, hsv_h=0.015, hsv_s=0.7, hsv_v=0.4, degrees=0.0, translate=0.1, scale=0.5, shear=0.0, perspective=0.0, flipud=0.0, fliplr=0.5, mosaic=1.0, mixup=0.0, copy_paste=0.0, auto_augment=randaugment, erasing=0.4, crop_fraction=1.0, cfg=None, tracker=botsort.yaml, save_dir=runs\\classify\\train2\n",
      "\u001b[34m\u001b[1mtrain:\u001b[0m C:\\Users\\SAIPRAKASH\\Desktop\\research_r\\driver_behavir\\driverbehavior\\train... found 8599 images in 5 classes ✅ \n",
      "\u001b[34m\u001b[1mval:\u001b[0m C:\\Users\\SAIPRAKASH\\Desktop\\research_r\\driver_behavir\\driverbehavior\\val... found 2152 images in 5 classes ✅ \n",
      "\u001b[34m\u001b[1mtest:\u001b[0m None...\n",
      "Overriding model.yaml nc=1000 with nc=5\n",
      "\n",
      "                   from  n    params  module                                       arguments                     \n",
      "  0                  -1  1       464  ultralytics.nn.modules.conv.Conv             [3, 16, 3, 2]                 \n",
      "  1                  -1  1      4672  ultralytics.nn.modules.conv.Conv             [16, 32, 3, 2]                \n",
      "  2                  -1  1      7360  ultralytics.nn.modules.block.C2f             [32, 32, 1, True]             \n",
      "  3                  -1  1     18560  ultralytics.nn.modules.conv.Conv             [32, 64, 3, 2]                \n",
      "  4                  -1  2     49664  ultralytics.nn.modules.block.C2f             [64, 64, 2, True]             \n",
      "  5                  -1  1     73984  ultralytics.nn.modules.conv.Conv             [64, 128, 3, 2]               \n",
      "  6                  -1  2    197632  ultralytics.nn.modules.block.C2f             [128, 128, 2, True]           \n",
      "  7                  -1  1    295424  ultralytics.nn.modules.conv.Conv             [128, 256, 3, 2]              \n",
      "  8                  -1  1    460288  ultralytics.nn.modules.block.C2f             [256, 256, 1, True]           \n",
      "  9                  -1  1    336645  ultralytics.nn.modules.head.Classify         [256, 5]                      \n",
      "YOLOv8n-cls summary: 99 layers, 1444693 parameters, 1444693 gradients, 3.4 GFLOPs\n",
      "Transferred 156/158 items from pretrained weights\n",
      "\u001b[34m\u001b[1mTensorBoard: \u001b[0mStart with 'tensorboard --logdir runs\\classify\\train2', view at http://localhost:6006/\n"
     ]
    },
    {
     "name": "stderr",
     "output_type": "stream",
     "text": [
      "\u001b[34m\u001b[1mtrain: \u001b[0mScanning C:\\Users\\SAIPRAKASH\\Desktop\\research_r\\driver_behavir\\driverbehavior\\train... 8599 images, 0 corrupt: 1\u001b[0m\n"
     ]
    },
    {
     "name": "stdout",
     "output_type": "stream",
     "text": [
      "\u001b[34m\u001b[1mtrain: \u001b[0mNew cache created: C:\\Users\\SAIPRAKASH\\Desktop\\research_r\\driver_behavir\\driverbehavior\\train.cache\n"
     ]
    },
    {
     "name": "stderr",
     "output_type": "stream",
     "text": [
      "\u001b[34m\u001b[1mval: \u001b[0mScanning C:\\Users\\SAIPRAKASH\\Desktop\\research_r\\driver_behavir\\driverbehavior\\val... 2152 images, 0 corrupt: 100%|\u001b[0m\n"
     ]
    },
    {
     "name": "stdout",
     "output_type": "stream",
     "text": [
      "\u001b[34m\u001b[1mval: \u001b[0mNew cache created: C:\\Users\\SAIPRAKASH\\Desktop\\research_r\\driver_behavir\\driverbehavior\\val.cache\n",
      "\u001b[34m\u001b[1moptimizer:\u001b[0m 'optimizer=auto' found, ignoring 'lr0=0.01' and 'momentum=0.937' and determining best 'optimizer', 'lr0' and 'momentum' automatically... \n",
      "\u001b[34m\u001b[1moptimizer:\u001b[0m AdamW(lr=0.000714, momentum=0.9) with parameter groups 26 weight(decay=0.0), 27 weight(decay=0.0005), 27 bias(decay=0.0)\n",
      "\u001b[34m\u001b[1mTensorBoard: \u001b[0mmodel graph visualization added ✅\n",
      "Image sizes 128 train, 128 val\n",
      "Using 0 dataloader workers\n",
      "Logging results to \u001b[1mruns\\classify\\train2\u001b[0m\n",
      "Starting training for 5 epochs...\n",
      "\n",
      "      Epoch    GPU_mem       loss  Instances       Size\n"
     ]
    },
    {
     "name": "stderr",
     "output_type": "stream",
     "text": [
      "        1/5         0G      1.703         16        128:   1%|          | 6/538 [00:03<05:22,  1.65it/s]"
     ]
    },
    {
     "name": "stdout",
     "output_type": "stream",
     "text": [
      "Downloading https://ultralytics.com/assets/Arial.ttf to 'C:\\Users\\SAIPRAKASH\\AppData\\Roaming\\Ultralytics\\Arial.ttf'...\n"
     ]
    },
    {
     "name": "stderr",
     "output_type": "stream",
     "text": [
      "        1/5         0G      1.689         16        128:   2%|▏         | 11/538 [00:06<05:14,  1.68it/s]\n",
      "  0%|                                                                                       | 0.00/755k [00:00<?, ?B/s]\u001b[A\n",
      " 22%|█████████████████▌                                                             | 168k/755k [00:00<00:00, 1.28MB/s]\u001b[A\n",
      " 47%|████████████████████████████████████▊                                          | 352k/755k [00:00<00:00, 1.51MB/s]\u001b[A\n",
      "100%|███████████████████████████████████████████████████████████████████████████████| 755k/755k [00:00<00:00, 1.68MB/s]\u001b[A\n",
      "        1/5         0G      1.239          7        128: 100%|██████████| 538/538 [05:09<00:00,  1.74it/s]\n",
      "               classes   top1_acc   top5_acc: 100%|██████████| 68/68 [00:42<00:00,  1.60it/s]"
     ]
    },
    {
     "name": "stdout",
     "output_type": "stream",
     "text": [
      "                   all      0.857          1\n"
     ]
    },
    {
     "name": "stderr",
     "output_type": "stream",
     "text": [
      "\n"
     ]
    },
    {
     "name": "stdout",
     "output_type": "stream",
     "text": [
      "\n",
      "      Epoch    GPU_mem       loss  Instances       Size\n"
     ]
    },
    {
     "name": "stderr",
     "output_type": "stream",
     "text": [
      "        2/5         0G      0.499          7        128: 100%|██████████| 538/538 [05:00<00:00,  1.79it/s]\n",
      "               classes   top1_acc   top5_acc: 100%|██████████| 68/68 [00:42<00:00,  1.58it/s]\n"
     ]
    },
    {
     "name": "stdout",
     "output_type": "stream",
     "text": [
      "                   all      0.953          1\n",
      "\n",
      "      Epoch    GPU_mem       loss  Instances       Size\n"
     ]
    },
    {
     "name": "stderr",
     "output_type": "stream",
     "text": [
      "        3/5         0G     0.3563          7        128: 100%|██████████| 538/538 [04:57<00:00,  1.81it/s]\n",
      "               classes   top1_acc   top5_acc: 100%|██████████| 68/68 [00:42<00:00,  1.58it/s]"
     ]
    },
    {
     "name": "stdout",
     "output_type": "stream",
     "text": [
      "                   all      0.962          1\n"
     ]
    },
    {
     "name": "stderr",
     "output_type": "stream",
     "text": [
      "\n"
     ]
    },
    {
     "name": "stdout",
     "output_type": "stream",
     "text": [
      "\n",
      "      Epoch    GPU_mem       loss  Instances       Size\n"
     ]
    },
    {
     "name": "stderr",
     "output_type": "stream",
     "text": [
      "        4/5         0G     0.2904          7        128: 100%|██████████| 538/538 [05:07<00:00,  1.75it/s]\n",
      "               classes   top1_acc   top5_acc: 100%|██████████| 68/68 [00:42<00:00,  1.60it/s]\n"
     ]
    },
    {
     "name": "stdout",
     "output_type": "stream",
     "text": [
      "                   all      0.974          1\n",
      "\n",
      "      Epoch    GPU_mem       loss  Instances       Size\n"
     ]
    },
    {
     "name": "stderr",
     "output_type": "stream",
     "text": [
      "        5/5         0G     0.2337          7        128: 100%|██████████| 538/538 [04:50<00:00,  1.85it/s]\n",
      "               classes   top1_acc   top5_acc: 100%|██████████| 68/68 [00:42<00:00,  1.59it/s]"
     ]
    },
    {
     "name": "stdout",
     "output_type": "stream",
     "text": [
      "                   all      0.975          1\n"
     ]
    },
    {
     "name": "stderr",
     "output_type": "stream",
     "text": [
      "\n"
     ]
    },
    {
     "name": "stdout",
     "output_type": "stream",
     "text": [
      "\n",
      "5 epochs completed in 0.479 hours.\n",
      "Optimizer stripped from runs\\classify\\train2\\weights\\last.pt, 3.0MB\n",
      "Optimizer stripped from runs\\classify\\train2\\weights\\best.pt, 3.0MB\n",
      "\n",
      "Validating runs\\classify\\train2\\weights\\best.pt...\n",
      "Ultralytics YOLOv8.1.24 🚀 Python-3.11.4 torch-2.2.1+cpu CPU (11th Gen Intel Core(TM) i7-11390H 3.40GHz)\n",
      "YOLOv8n-cls summary (fused): 73 layers, 1441285 parameters, 0 gradients, 3.3 GFLOPs\n",
      "\u001b[34m\u001b[1mtrain:\u001b[0m C:\\Users\\SAIPRAKASH\\Desktop\\research_r\\driver_behavir\\driverbehavior\\train... found 8599 images in 5 classes ✅ \n",
      "\u001b[34m\u001b[1mval:\u001b[0m C:\\Users\\SAIPRAKASH\\Desktop\\research_r\\driver_behavir\\driverbehavior\\val... found 2152 images in 5 classes ✅ \n",
      "\u001b[34m\u001b[1mtest:\u001b[0m None...\n"
     ]
    },
    {
     "name": "stderr",
     "output_type": "stream",
     "text": [
      "               classes   top1_acc   top5_acc: 100%|██████████| 68/68 [00:42<00:00,  1.60it/s]\n"
     ]
    },
    {
     "name": "stdout",
     "output_type": "stream",
     "text": [
      "                   all      0.975          1\n",
      "Speed: 0.0ms preprocess, 4.8ms inference, 0.0ms loss, 0.0ms postprocess per image\n",
      "Results saved to \u001b[1mruns\\classify\\train2\u001b[0m\n",
      "Results saved to \u001b[1mruns\\classify\\train2\u001b[0m\n"
     ]
    },
    {
     "data": {
      "text/plain": [
       "ultralytics.utils.metrics.ClassifyMetrics object with attributes:\n",
       "\n",
       "confusion_matrix: <ultralytics.utils.metrics.ConfusionMatrix object at 0x00000233D581F350>\n",
       "curves: []\n",
       "curves_results: []\n",
       "fitness: 0.9874535202980042\n",
       "keys: ['metrics/accuracy_top1', 'metrics/accuracy_top5']\n",
       "results_dict: {'metrics/accuracy_top1': 0.9749070405960083, 'metrics/accuracy_top5': 1.0, 'fitness': 0.9874535202980042}\n",
       "save_dir: WindowsPath('runs/classify/train2')\n",
       "speed: {'preprocess': 0.0, 'inference': 4.7939926053511615, 'loss': 0.0, 'postprocess': 0.0}\n",
       "task: 'classify'\n",
       "top1: 0.9749070405960083\n",
       "top5: 1.0"
      ]
     },
     "execution_count": 2,
     "metadata": {},
     "output_type": "execute_result"
    }
   ],
   "source": [
    "from ultralytics import YOLO\n",
    "from IPython.display import display, Image\n",
    "\n",
    "model = YOLO('yolov8n-cls.pt')\n",
    "model.train(data = os.path.join(os.getcwd(), 'driverbehavior'), epochs=5, imgsz=128)"
   ]
  },
  {
   "cell_type": "code",
   "execution_count": null,
   "id": "ec785223",
   "metadata": {},
   "outputs": [],
   "source": []
  }
 ],
 "metadata": {
  "kernelspec": {
   "display_name": "Python 3 (ipykernel)",
   "language": "python",
   "name": "python3"
  },
  "language_info": {
   "codemirror_mode": {
    "name": "ipython",
    "version": 3
   },
   "file_extension": ".py",
   "mimetype": "text/x-python",
   "name": "python",
   "nbconvert_exporter": "python",
   "pygments_lexer": "ipython3",
   "version": "3.11.4"
  }
 },
 "nbformat": 4,
 "nbformat_minor": 5
}
